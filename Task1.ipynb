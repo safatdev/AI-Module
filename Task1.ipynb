{
 "cells": [
  {
   "cell_type": "code",
   "execution_count": 1,
   "metadata": {},
   "outputs": [],
   "source": [
    "# imports\n",
    "import numpy as np\n",
    "import matplotlib.pyplot as plt\n",
    "import matplotlib.colors as colours\n",
    "from enum import Enum\n",
    "import time\n",
    "from copy import copy\n",
    "\n",
    "# Only used for animating the pathfind\n",
    "from IPython.display import clear_output\n",
    "\n",
    "seed = 0\n",
    "np.random.seed(seed)"
   ]
  },
  {
   "cell_type": "code",
   "execution_count": 2,
   "metadata": {},
   "outputs": [],
   "source": [
    "# The Grid class\n",
    "# Reason for creating the Grid class is so that I can use \"id\" as key in dictionary rather than converting the coord to string\n",
    "class Grid:\n",
    "\n",
    "    def __init__(self, x_size, y_size, low, high):\n",
    "        self.size = x_size * y_size\n",
    "        self.x_size = x_size\n",
    "        self.y_size = y_size\n",
    "        self.grid = np.random.randint(low, high=high+1, size=(1, self.size))[0]\n",
    "        self.high = high\n",
    "\n",
    "    # returns the left cell\n",
    "    def get_left_cell(self, id):\n",
    "        lid = id-1\n",
    "        if id >= 0 and id % self.x_size != 0:\n",
    "            return (lid, self.grid[lid])\n",
    "\n",
    "    # returns the right cell\n",
    "    def get_right_cell(self, id):\n",
    "        lid = id+1\n",
    "        if id < self.size and (lid) % self.x_size != 0:\n",
    "            return (lid, self.grid[lid])\n",
    "\n",
    "    # returns the top cell\n",
    "    def get_top_cell(self, id):\n",
    "        lid = id-self.x_size\n",
    "        if lid >= 0:\n",
    "            return (lid, self.grid[lid])\n",
    "\n",
    "    # returns the bottom cell\n",
    "    def get_bottom_cell(self, id):\n",
    "        lid = id+self.x_size\n",
    "        if lid < self.size:\n",
    "            return (lid, self.grid[lid])\n",
    "\n",
    "    # returns the cell weight\n",
    "    def get_cell_weight(self, id):\n",
    "        return self.grid[id]\n",
    "    \n",
    "    # returns a cell's neighbours\n",
    "    def get_neighbours(self, id):\n",
    "        n = []\n",
    "\n",
    "        # get neighbours\n",
    "        left = self.get_left_cell(id)\n",
    "        right = self.get_right_cell(id)\n",
    "        top = self.get_top_cell(id)\n",
    "        bot = self.get_bottom_cell(id)\n",
    "\n",
    "        # append neighbours if available\n",
    "        if left:\n",
    "            n.append(left[0])\n",
    "        if right:\n",
    "            n.append(right[0])\n",
    "        if top:\n",
    "            n.append(top[0])\n",
    "        if bot:\n",
    "            n.append(bot[0])\n",
    "        return n\n",
    "\n",
    "    # returns neighbours of every cell\n",
    "    def get_relations(self):\n",
    "        r = []\n",
    "        for i in range(self.size):\n",
    "            n = self.get_neighbours(i)\n",
    "            r.append(n)\n",
    "        return r\n",
    "\n",
    "    # target id\n",
    "    def get_target_id(self):\n",
    "        return len(self.grid)-1\n",
    "\n",
    "    # converts id to coordinates (y,x)\n",
    "    def id_to_coord(self, id):\n",
    "        y = id // self.y_size\n",
    "        x = id % self.x_size\n",
    "        return (y,x)\n",
    "\n",
    "    # pretty prints grid\n",
    "    def spit_grid(self):\n",
    "        print(self.grid.tolist())"
   ]
  },
  {
   "cell_type": "code",
   "execution_count": 3,
   "metadata": {},
   "outputs": [],
   "source": [
    "# Visualisation\n",
    "class GridColour(Enum):\n",
    "    PLAIN = 0\n",
    "    PATH = 2\n",
    "    START = 3\n",
    "    TARGET = 4\n",
    "\n",
    "class AnimationController:\n",
    "    def __init__(self, grid: Grid, animation_speed):\n",
    "        self.grid = grid.grid\n",
    "        self.x_size = grid.x_size\n",
    "        self.y_size = grid.y_size\n",
    "        self.animation_speed = animation_speed\n",
    "\n",
    "        # create grid fig and show\n",
    "        self.title = f\"Generated Grid of size {self.x_size} x {self.y_size}, with Seed {seed} and 'n_value' of {grid.high}\"\n",
    "        self.colour_grid = np.zeros((self.y_size, self.x_size))\n",
    "\n",
    "    # creates the grid\n",
    "    def gridshow(self):\n",
    "\n",
    "        # creating coloured grid\n",
    "        fig, axes = plt.subplots(figsize=(self.x_size/2 if self.x_size < 40 else 20, self.y_size/2 if self.y_size < 40 else 20))\n",
    "        axes.set_axis_off()\n",
    "        axes.matshow(self.colour_grid)\n",
    "\n",
    "        # setting text\n",
    "        for (y, x), z in np.ndenumerate(self.grid.reshape(self.y_size, self.x_size)):\n",
    "            axes.text(x, y, z, fontsize='xx-large' if self.grid.size < 40*40 else 'xx-small', color='white', ha='center', va='center')\n",
    "\n",
    "        # show plot\n",
    "        axes.set_title(self.title, fontsize='x-large')\n",
    "        plt.show()\n",
    "\n",
    "    # update the grid colours in grid colour of a cell\n",
    "    def update_grid_colour(self, id, colour: GridColour):\n",
    "        x = np.mod(id, self.x_size)\n",
    "        y = np.floor_divide(id, self.x_size)\n",
    "        self.colour_grid[y][x] = colour.value\n",
    "\n",
    "    def step(self, id, colour: GridColour):\n",
    "        self.update_grid_colour(id, colour)\n",
    "        if self.animation_speed == 0:\n",
    "            return\n",
    "        clear_output(wait=True)\n",
    "        time.sleep(self.animation_speed)\n",
    "        self.gridshow()\n"
   ]
  },
  {
   "cell_type": "code",
   "execution_count": 4,
   "metadata": {},
   "outputs": [],
   "source": [
    "# Heuristic Algorithm Class\n",
    "class HeuristicAlgorithm():\n",
    "\n",
    "    def __init__(self, grid, animation: AnimationController):\n",
    "        self.grid = grid\n",
    "        self.memory = {0: (grid.get_cell_weight(0), None)}  # {point: [weight_from_origin, previous_point]}\n",
    "        self.queue = [0]\n",
    "        self.animation = animation\n",
    "        self.gamemode = 0\n",
    "\n",
    "    # Help find the algorithm\n",
    "    def find_shortest_path(self, gamemode):\n",
    "\n",
    "        self.gamemode = gamemode\n",
    "\n",
    "        # Step\n",
    "        while len(self.queue) > 0:\n",
    "\n",
    "            # get next point in queue\n",
    "            vis = self.q_get()\n",
    "            vis_mem = self.mem_get_point(vis)\n",
    "\n",
    "            # add right side to memory and queue\n",
    "            right = self.grid.get_right_cell(vis)\n",
    "            if right:\n",
    "                self.mem_update_point(right, vis, vis_mem[0])\n",
    "                if right[0] != self.grid.size-1:\n",
    "                    self.q_enqueue(right[0])\n",
    "\n",
    "            # add left side to memory and queue\n",
    "            bottom = self.grid.get_bottom_cell(vis)\n",
    "            if bottom:\n",
    "                self.mem_update_point(bottom, vis, vis_mem[0])\n",
    "                if bottom[0] != self.grid.size-1:\n",
    "                    self.q_enqueue(bottom[0])\n",
    "\n",
    "    # Backtrack -> returns path in reverse\n",
    "    def backtrack_path(self):\n",
    "\n",
    "        # init target info\n",
    "        target_cell = self.grid.size-1\n",
    "        ptr = self.mem_get_point(target_cell)\n",
    "\n",
    "        # anim\n",
    "        self.animation.step(target_cell, GridColour.TARGET)\n",
    "\n",
    "        # start from target [bottom right] backtrack via 'prev'\n",
    "        while ptr[1]:\n",
    "            ptr = self.mem_get_point(ptr[1])\n",
    "            self.animation.step(ptr[1], GridColour.PATH)\n",
    "        self.animation.step(0, GridColour.START)\n",
    "\n",
    "    # Helper functions\n",
    "    def q_enqueue(self, c):\n",
    "        self.queue.append(c)\n",
    "\n",
    "    def q_get(self):\n",
    "        next_q = copy(self.queue[0])\n",
    "        self.queue.pop(0)\n",
    "        return next_q\n",
    "\n",
    "    def mem_get_point(self, k):\n",
    "        if k in self.memory:\n",
    "            return self.memory[k]\n",
    "\n",
    "    def mem_update_point(self, cell, prev_id, prev_weight):\n",
    "        \n",
    "        # calculating the weight based on the gamemode\n",
    "        if self.gamemode == 0:\n",
    "            wfo = prev_weight+cell[1]\n",
    "        elif self.gamemode == 1:\n",
    "            wfo = prev_weight+abs(prev_weight-cell[1])\n",
    "        \n",
    "        # get cell\n",
    "        point = self.mem_get_point(cell[0])\n",
    "\n",
    "        # if a point is not in memory or the wfo is less than current path -> add/replace point\n",
    "        if point is None or wfo < point[0]:\n",
    "            self.memory[cell[0]] = (wfo, prev_id)\n"
   ]
  },
  {
   "cell_type": "code",
   "execution_count": 5,
   "metadata": {},
   "outputs": [],
   "source": [
    "# Dijkstra Algorithm Class\n",
    "class DijkstraAlgorithm:\n",
    "    \n",
    "    def __init__(self, grid, animation: AnimationController):\n",
    "\n",
    "        self.animation = animation\n",
    "        self.grid_costs = grid.grid\n",
    "        self.grid_size = grid.size\n",
    "        self.relations_graph = grid.get_relations()\n",
    "        self.cost_table = None\n",
    "\n",
    "        # create and set cost_table\n",
    "        self.gen_cost_table()\n",
    "    \n",
    "    def gen_cost_table(self):\n",
    "\n",
    "        # [ cost from origin, previous vertext ]  ->  -1 = infinity/not set\n",
    "        self.cost_table = np.array([np.zeros(self.grid_size)-1, np.zeros(self.grid_size)-1], dtype='longlong')\n",
    "        self.cost_table[0][0] = self.grid_costs[0]\n",
    "        self.cost_table[1][0] = 0\n",
    "\n",
    "    # pathfinding\n",
    "    def find_shortest_path(self, gamemode):\n",
    "\n",
    "        # visit nodes\n",
    "        for node_id in range(self.grid_size):\n",
    "\n",
    "            visit_node_cost = self.cost_table[0][node_id]\n",
    "            \n",
    "            # update neighbours cost\n",
    "            for neighbor_id in self.relations_graph[node_id]:\n",
    "                neighbour_cost = self.grid_costs[neighbor_id]\n",
    "                neighbour_cost_from_origin = self.cost_table[0][neighbor_id]\n",
    "\n",
    "                # calculating the cost based on the gamemode\n",
    "                if gamemode == 0:\n",
    "                    from_visit_cost = visit_node_cost+neighbour_cost\n",
    "                elif gamemode == 1:\n",
    "                    from_visit_cost = visit_node_cost+np.absolute(np.subtract(visit_node_cost, neighbour_cost))\n",
    "\n",
    "                # update cost table -> if infinity or less than current saved cost from origin\n",
    "                if neighbour_cost_from_origin < 0 or from_visit_cost < neighbour_cost_from_origin:\n",
    "                    self.cost_table[0][neighbor_id] = from_visit_cost  # update from origin cost\n",
    "                    self.cost_table[1][neighbor_id] = node_id  # update previous node id\n",
    "\n",
    "        # returns total cost amount\n",
    "        return self.cost_table[0][self.grid_size-1]\n",
    "\n",
    "    def backtrack_path(self):\n",
    "        node_id = self.grid_size-1\n",
    "        self.animation.title = f'Shortest Path cost: {self.cost_table[0][node_id]}'\n",
    "        self.animation.step(node_id, GridColour.TARGET)\n",
    "\n",
    "        while node_id != 0:\n",
    "            node_id = self.cost_table[1][node_id]  # get the previous node_id\n",
    "            self.animation.step(node_id, GridColour.PATH if node_id != 0 else GridColour.START)"
   ]
  },
  {
   "cell_type": "code",
   "execution_count": 6,
   "metadata": {},
   "outputs": [
    {
     "data": {
      "image/png": "[encoded data removed]",
      "text/plain": [
       "<Figure size 360x360 with 1 Axes>"
      ]
     },
     "metadata": {
      "needs_background": "light"
     },
     "output_type": "display_data"
    }
   ],
   "source": [
    "size = input('Please enter the Grid Size (eg 10x10)')\n",
    "n_value = int(input('Please enter the cell n_value'))\n",
    "x_size, y_size = size.split('x')\n",
    "grid = Grid(int(x_size), int(y_size), 0, n_value)\n",
    "\n",
    "gamemode = int(input('Please enter the Gamemode \\n (1 for time spent on a cell is the number on this cell or 2 for time spent on a cell is the absolute of the difference between the previous cell the agent was on and the current cell it is on)'))\n",
    "\n",
    "anim_speed = input('Press enter to continue without animation, otherwise enter wait time')\n",
    "anim_speed = int(anim_speed) if anim_speed != '' else 0\n",
    "anim = AnimationController(grid, anim_speed)\n",
    "\n",
    "algo = input(\"Press enter to use Dijkstra's Algorithm, otherwise enter 'H' for Heuristic [slow]\")\n",
    "algo = HeuristicAlgorithm(grid, anim) if algo == 'H' else DijkstraAlgorithm(grid, anim)\n",
    "\n",
    "anim.gridshow()"
   ]
  },
  {
   "cell_type": "code",
   "execution_count": 7,
   "metadata": {},
   "outputs": [
    {
     "name": "stdout",
     "output_type": "stream",
     "text": [
      "Shortest Path: 114\n"
     ]
    }
   ],
   "source": [
    "print('Shortest Path:', algo.find_shortest_path(gamemode-1))"
   ]
  },
  {
   "cell_type": "code",
   "execution_count": 8,
   "metadata": {},
   "outputs": [
    {
     "data": {
      "image/png": "[encoded data removed]",
      "text/plain": [
       "<Figure size 360x360 with 1 Axes>"
      ]
     },
     "metadata": {
      "needs_background": "light"
     },
     "output_type": "display_data"
    }
   ],
   "source": [
    "algo.backtrack_path()\n",
    "if anim_speed == 0:\n",
    "    anim.gridshow()"
   ]
  },
  {
   "cell_type": "markdown",
   "metadata": {},
   "source": [
    "## Analysis"
   ]
  },
  {
   "cell_type": "markdown",
   "metadata": {},
   "source": [
    "Variance of n_value"
   ]
  },
  {
   "cell_type": "code",
   "execution_count": 9,
   "metadata": {},
   "outputs": [
    {
     "data": {
      "image/png": "[encoded data removed]",
      "text/plain": [
       "<Figure size 432x288 with 1 Axes>"
      ]
     },
     "metadata": {
      "needs_background": "light"
     },
     "output_type": "display_data"
    }
   ],
   "source": [
    "plt.hist(grid.grid)\n",
    "plt.xlabel('n_values')\n",
    "plt.ylabel('occurrance')\n",
    "plt.title(f'n-value variance based on grid size of {grid.size}', fontsize='x-large')\n",
    "plt.show()"
   ]
  },
  {
   "cell_type": "markdown",
   "metadata": {},
   "source": [
    "Parameters Change"
   ]
  },
  {
   "cell_type": "code",
   "execution_count": 10,
   "metadata": {},
   "outputs": [],
   "source": [
    "def fibo(arr):\n",
    "    for i,v in enumerate(arr):  # fibo\n",
    "        if i > 1:\n",
    "            arr[i] = arr[i-1] + arr[i-2]\n",
    "    return arr[1:]"
   ]
  },
  {
   "cell_type": "code",
   "execution_count": 11,
   "metadata": {},
   "outputs": [],
   "source": [
    "# grid config\n",
    "np.random.seed(21)  # reset seed\n",
    "n_value = 10\n",
    "# n_values = np.ones(11)*10\n",
    "# n_values = fibo(n_values)\n",
    "\n",
    "x_size, y_size = 10, 10\n",
    "# sizes = np.ones(11, dtype='int64')*10\n",
    "# sizes = fibo(sizes)\n",
    "\n",
    "# amount\n",
    "period = 10"
   ]
  },
  {
   "cell_type": "markdown",
   "metadata": {},
   "source": [
    "Visualize"
   ]
  },
  {
   "cell_type": "code",
   "execution_count": 12,
   "metadata": {},
   "outputs": [
    {
     "ename": "NameError",
     "evalue": "name 'sizes' is not defined",
     "output_type": "error",
     "traceback": [
      "\u001b[1;31m---------------------------------------------------------------------------\u001b[0m",
      "\u001b[1;31mNameError\u001b[0m                                 Traceback (most recent call last)",
      "\u001b[1;32m<ipython-input-12-cb441541dfc6>\u001b[0m in \u001b[0;36m<module>\u001b[1;34m\u001b[0m\n\u001b[0;32m     10\u001b[0m \u001b[1;31m# run algo\u001b[0m\u001b[1;33m\u001b[0m\u001b[1;33m\u001b[0m\u001b[1;33m\u001b[0m\u001b[0m\n\u001b[0;32m     11\u001b[0m \u001b[1;32mfor\u001b[0m \u001b[0mi\u001b[0m\u001b[1;33m,\u001b[0m \u001b[0maxi\u001b[0m \u001b[1;32min\u001b[0m \u001b[0menumerate\u001b[0m\u001b[1;33m(\u001b[0m\u001b[0mrange\u001b[0m\u001b[1;33m(\u001b[0m\u001b[1;36m0\u001b[0m\u001b[1;33m,\u001b[0m \u001b[0mperiod\u001b[0m\u001b[1;33m*\u001b[0m\u001b[1;36m2\u001b[0m\u001b[1;33m,\u001b[0m \u001b[1;36m2\u001b[0m\u001b[1;33m)\u001b[0m\u001b[1;33m)\u001b[0m\u001b[1;33m:\u001b[0m\u001b[1;33m\u001b[0m\u001b[1;33m\u001b[0m\u001b[0m\n\u001b[1;32m---> 12\u001b[1;33m     \u001b[0mgrid\u001b[0m \u001b[1;33m=\u001b[0m \u001b[0mGrid\u001b[0m\u001b[1;33m(\u001b[0m\u001b[0msizes\u001b[0m\u001b[1;33m[\u001b[0m\u001b[0mi\u001b[0m\u001b[1;33m]\u001b[0m\u001b[1;33m,\u001b[0m \u001b[0msizes\u001b[0m\u001b[1;33m[\u001b[0m\u001b[0mi\u001b[0m\u001b[1;33m]\u001b[0m\u001b[1;33m,\u001b[0m \u001b[1;36m0\u001b[0m\u001b[1;33m,\u001b[0m \u001b[0mn_value\u001b[0m\u001b[1;33m)\u001b[0m\u001b[1;33m\u001b[0m\u001b[1;33m\u001b[0m\u001b[0m\n\u001b[0m\u001b[0;32m     13\u001b[0m     \u001b[0malgo\u001b[0m \u001b[1;33m=\u001b[0m \u001b[0mDijkstraAlgorithm\u001b[0m\u001b[1;33m(\u001b[0m\u001b[0mgrid\u001b[0m\u001b[1;33m,\u001b[0m \u001b[0mAnimationController\u001b[0m\u001b[1;33m(\u001b[0m\u001b[0mgrid\u001b[0m\u001b[1;33m,\u001b[0m \u001b[1;36m0\u001b[0m\u001b[1;33m)\u001b[0m\u001b[1;33m)\u001b[0m\u001b[1;33m\u001b[0m\u001b[1;33m\u001b[0m\u001b[0m\n\u001b[0;32m     14\u001b[0m \u001b[1;33m\u001b[0m\u001b[0m\n",
      "\u001b[1;31mNameError\u001b[0m: name 'sizes' is not defined"
     ]
    },
    {
     "data": {
      "image/png": "[encoded data removed]",
      "text/plain": [
       "<Figure size 1440x720 with 20 Axes>"
      ]
     },
     "metadata": {
      "needs_background": "light"
     },
     "output_type": "display_data"
    }
   ],
   "source": [
    "cost_amounts_1 = np.zeros(period, dtype='int64')\n",
    "cost_amounts_2 = np.zeros(period, dtype='int64')\n",
    "\n",
    "all_costs_1 = []\n",
    "all_costs_2 = []\n",
    "\n",
    "fig, axes = plt.subplots(n_value//2, 4, figsize=(20, 10), sharex=True)\n",
    "axes = axes.ravel()\n",
    "\n",
    "# run algo\n",
    "for i, axi in enumerate(range(0, period*2, 2)):\n",
    "    grid = Grid(sizes[i], sizes[i], 0, n_value)\n",
    "    algo = DijkstraAlgorithm(grid, AnimationController(grid, 0))\n",
    "\n",
    "    # find path and show costs\n",
    "    cost = algo.find_shortest_path(0)\n",
    "    cost_amounts_1[i] = cost\n",
    "    axes[axi].set_title(f'Period {i+1} - Mode 1 | Shortest Cost: {cost}')\n",
    "    axes[axi].plot(algo.cost_table[0])\n",
    "    axes[axi].plot([0, grid.size-1], [cost, cost])\n",
    "\n",
    "    # add cost table and reset\n",
    "    all_costs_1.append(algo.grid_costs)\n",
    "    algo.gen_cost_table()\n",
    "    \n",
    "    cost = algo.find_shortest_path(1)\n",
    "    cost_amounts_2[i] = cost\n",
    "    axes[axi+1].set_title(f'Period {i+1} - Mode 2 | Shortest Cost: {cost}')\n",
    "    axes[axi+1].plot(algo.cost_table[0])\n",
    "\n",
    "    grid_line_x, grid_line_y = [], []\n",
    "    for i in range(grid.size):\n",
    "        wait_time = algo.cost_table[0][i]\n",
    "        if len(grid_line_y) == 0 or wait_time > grid_line_y[-1]:\n",
    "            grid_line_x.append(i)\n",
    "            grid_line_y.append(wait_time)\n",
    "    axes[axi+1].plot(grid_line_x, grid_line_y)\n",
    "\n",
    "    all_costs_2.append(algo.grid_costs)\n",
    "\n",
    "# average & mean mode 1\n",
    "avg1 = np.average(cost_amounts_1)\n",
    "cm1sort = np.sort(cost_amounts_1)\n",
    "mean1 = cm1sort[cm1sort.size//2]\n",
    "\n",
    "# average & mean mode 2\n",
    "avg2 = np.average(cost_amounts_2)\n",
    "cm2sort = np.sort(cost_amounts_2)\n",
    "mean2 = cm2sort[cm2sort.size//2]\n",
    "\n",
    "# title\n",
    "fig.suptitle(f'Mode 1 {avg1} Avg, {mean1} Mean - Mode 2 {avg2} Avg, {mean2} Mean | Over Period {period} periods')\n",
    "\n",
    "# display\n",
    "plt.show()\n",
    "\n",
    "# display average and mean\n",
    "fig, axes = plt.subplots(1, 3, figsize=(20, 5))\n",
    "period_range = range(period)\n",
    "\n",
    "# mode 1 show\n",
    "axes[0].set_title(f'Mode 1 Results over {period} periods')\n",
    "axes[0].bar(period_range, cost_amounts_1)\n",
    "l1, = axes[0].plot([0, period-1], [avg1, avg1], 'tab:cyan', label=f'average: {avg1}')\n",
    "l2, = axes[0].plot([0, period-1], [mean1, mean1], 'tab:red', label=f'mean: {mean1}')\n",
    "axes[0].legend(handles=[l1, l2])\n",
    "\n",
    "# mode 2 show\n",
    "axes[1].set_title(f'Mode 2 Results over {period} periods')\n",
    "axes[1].bar(period_range, cost_amounts_2)\n",
    "l1, = axes[1].plot([0, period-1], [avg2, avg2], 'tab:cyan', label=f'average: {avg2}')\n",
    "l2, = axes[1].plot([0, period-1], [mean2, mean2], 'tab:red', label=f'mean: {mean2}')\n",
    "axes[1].legend(handles=[l1, l2])\n",
    "\n",
    "all_costs_1_raveled = []\n",
    "for p in all_costs_1:\n",
    "    for c in p:\n",
    "        all_costs_1_raveled.append(c)\n",
    "\n",
    "# grid n_value variance\n",
    "axes[2].hist(all_costs_1_raveled)\n",
    "axes[2].set_title('Grid n_value variance')\n",
    "axes[2].set_ylabel('occurances')\n",
    "axes[2].set_xlabel('n_values')\n",
    "\n",
    "# display\n",
    "plt.show()"
   ]
  }
 ],
 "metadata": {
  "kernelspec": {
   "display_name": "Python 3.8.8 ('base')",
   "language": "python",
   "name": "python3"
  },
  "language_info": {
   "codemirror_mode": {
    "name": "ipython",
    "version": 3
   },
   "file_extension": ".py",
   "mimetype": "text/x-python",
   "name": "python",
   "nbconvert_exporter": "python",
   "pygments_lexer": "ipython3",
   "version": "3.8.8"
  },
  "orig_nbformat": 4,
  "vscode": {
   "interpreter": {
    "hash": "83255924bb24649959e7676d680b8b30ea37435eed6ec554b3a74df0ae3dfcdb"
   }
  }
 },
 "nbformat": 4,
 "nbformat_minor": 2
}
