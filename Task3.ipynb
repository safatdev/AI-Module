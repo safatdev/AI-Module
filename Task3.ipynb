{
  "cells": [
    {
      "cell_type": "code",
      "execution_count": 1,
      "metadata": {
        "id": "wCzNLxgdjKM_"
      },
      "outputs": [],
      "source": [
        "import os\n",
        "os.environ['KMP_DUPLICATE_LIB_OK']='TRUE'"
      ]
    },
    {
      "cell_type": "code",
      "execution_count": 2,
      "metadata": {
        "id": "xxlvDqNljKNE"
      },
      "outputs": [],
      "source": [
        "# some variables\n",
        "DATA_FOLDER = 'data/'\n",
        "nn_batches_amount = 20\n",
        "output_size_amount = 10\n",
        "input_size_amount = 64\n",
        "learning_rate_amount = 0.001"
      ]
    },
    {
      "cell_type": "code",
      "execution_count": 3,
      "metadata": {
        "id": "Sj1o0EUfjKNH"
      },
      "outputs": [],
      "source": [
        "# import mnist data using pytorch\n",
        "from torchvision import datasets, transforms\n",
        "\n",
        "# raw data\n",
        "raw_training_data = datasets.FashionMNIST(DATA_FOLDER, download=True, train=True)\n",
        "raw_testing_data = datasets.FashionMNIST(DATA_FOLDER, download=True, train=False)"
      ]
    },
    {
      "cell_type": "markdown",
      "metadata": {
        "id": "JEna_-kAjKNH"
      },
      "source": [
        "HELPER FUNCTIONS"
      ]
    },
    {
      "cell_type": "code",
      "execution_count": 4,
      "metadata": {
        "id": "JNq9vWjqjKNN"
      },
      "outputs": [],
      "source": [
        "import numpy as np\n",
        "\n",
        "# creating a training set from the raw data\"\n",
        "def get_training_set():\n",
        "    training_set = np.empty([len(raw_training_data), 28*28], dtype=np.float32)\n",
        "    training_labels = np.empty([len(raw_training_data)], dtype=np.int8)\n",
        "\n",
        "    for k, data in enumerate(raw_training_data):\n",
        "        training_set[k] = np.asarray(data[0]).reshape(28*28)\n",
        "        training_labels[k] = np.int8(data[1])\n",
        "    return training_set, training_labels\n",
        "\n",
        "# creating a testing set from the raw data\"\n",
        "def get_testing_set():\n",
        "    testing_set = np.empty([len(raw_testing_data), 28*28], dtype=np.float32)\n",
        "    testing_labels = np.empty([len(raw_testing_data)], dtype=np.int8)\n",
        "\n",
        "    for k, data in enumerate(raw_testing_data):\n",
        "        testing_set[k] = np.asarray(data[0]).reshape(28*28)\n",
        "        testing_labels[k] = np.int8(data[1])\n",
        "    return testing_set, testing_labels"
      ]
    },
    {
      "cell_type": "code",
      "execution_count": 5,
      "metadata": {
        "id": "_DR3uO0pjKNO"
      },
      "outputs": [],
      "source": [
        "# takes the data and shuffles them and puts them into batches\n",
        "def get_data_shuffled_and_in_batches(data, labels, batch_size):\n",
        "    amt = len(data) / batch_size\n",
        "    sh = np.random.permutation(np.arange(len(data)))\n",
        "    return (np.array_split(data[sh], amt), np.array_split(labels[sh], amt))\n",
        "\n",
        "# gets training data\n",
        "def get_training_data(batch_size):\n",
        "    d, l = get_training_set()\n",
        "    return get_data_shuffled_and_in_batches(d, l, batch_size)\n",
        "\n",
        "# gets the testing data\n",
        "def get_testing_data(batch_size):\n",
        "    d, l = get_testing_set()\n",
        "    return get_data_shuffled_and_in_batches(d, l, batch_size)\n",
        "\n",
        "# given index returns string label\n",
        "def get_name(ci):\n",
        "    return datasets.FashionMNIST.classes[ci]\n",
        "\n",
        "# returns a class name\n",
        "def get_class_name(c):\n",
        "    return type(c).__name__"
      ]
    },
    {
      "cell_type": "markdown",
      "metadata": {
        "id": "5mSAD62sjKNP"
      },
      "source": [
        "ACTIVATION FUNCTIONS"
      ]
    },
    {
      "cell_type": "code",
      "execution_count": 6,
      "metadata": {
        "id": "GAfjxjPFjKNP"
      },
      "outputs": [],
      "source": [
        "# https://towardsdatascience.com/lets-code-a-neural-network-in-plain-numpy-ae7e74410795\n",
        "class ReLU():\n",
        "    def forward(self, z):\n",
        "        return np.maximum(0, z)\n",
        "\n",
        "    def backward(self, dA, Z):\n",
        "        dZ = np.array(dA, copy = True)\n",
        "        dZ[Z <= 0] = 0\n",
        "        return dZ\n",
        "\n",
        "class Sigmoid():\n",
        "    def forward(self, z):\n",
        "        z = np.clip(z, 1e-7, 1-1e-7)\n",
        "        return 1 / (1 + np.exp(-z))\n",
        "        \n",
        "    def backward(self, dA, z):\n",
        "        sig = self.forward(z)\n",
        "        return dA * sig * (1 - sig)\n",
        "\n",
        "# http://gregorygundersen.com/blog/2020/02/09/log-sum-exp/\n",
        "# https://github.com/torch/nn/blob/master/lib/THNN/generic/LogSoftMax.c\n",
        "class LogSoftmax():\n",
        "    def forward(self, z):\n",
        "        c = z.max(axis=1)\n",
        "        log_sum =  c + np.log(np.exp(z-c.reshape((-1, 1))).sum(axis=1))\n",
        "        return z - log_sum.reshape((-1, 1))\n",
        "        \n",
        "    def backward(self, out, z):\n",
        "        return out - np.exp(z)*out.sum(axis=1).reshape((-1, 1))"
      ]
    },
    {
      "cell_type": "markdown",
      "metadata": {
        "id": "rGg-BfKDjKNQ"
      },
      "source": [
        "LAYER"
      ]
    },
    {
      "cell_type": "code",
      "execution_count": 7,
      "metadata": {
        "id": "wtEtleyfjKNR"
      },
      "outputs": [],
      "source": [
        "# Layer\n",
        "class Layer():\n",
        "\n",
        "    # initialize the Layer\n",
        "    def __init__(self, input_size, output_size, activation_func=None):\n",
        "        self.weights = 0.01 * np.random.randn(input_size, output_size)\n",
        "        self.biases = 0.01 * np.zeros((1, output_size))\n",
        "        self.activation_func = activation_func\n",
        "\n",
        "    def forward(self, inputs):\n",
        "        return np.dot(inputs, self.weights) + self.biases\n",
        "\n",
        "    def update(self, learning_rate, gweights, gbiases):\n",
        "        self.weights -= learning_rate * gweights\n",
        "        # self.biases -= learning_rate * gbiases"
      ]
    },
    {
      "cell_type": "markdown",
      "metadata": {
        "id": "ECKdfn8AjKNR"
      },
      "source": [
        "NETWORK MODEL"
      ]
    },
    {
      "cell_type": "code",
      "execution_count": 8,
      "metadata": {
        "id": "JHXP5xNgjKNS"
      },
      "outputs": [],
      "source": [
        "# network model\n",
        "class Neural_Network_Model():\n",
        "    def parameters(self):\n",
        "        parameters = []\n",
        "        for p in self.__dict__:\n",
        "            parameters.append(getattr(self, p))\n",
        "        return parameters"
      ]
    },
    {
      "cell_type": "markdown",
      "metadata": {
        "id": "Vbcpg1p0jKNS"
      },
      "source": [
        "SGD Optimizer"
      ]
    },
    {
      "cell_type": "code",
      "execution_count": 9,
      "metadata": {
        "id": "vKmPnwhBjKNT"
      },
      "outputs": [],
      "source": [
        "from tqdm import tqdm\n",
        "\n",
        "class SGD_Optimizer():\n",
        "\n",
        "    # initializing\n",
        "    def __init__(self, parameters):\n",
        "        self.parameters = parameters\n",
        "        self.parameters_amt = len(parameters)\n",
        "        self.astages = [None] * (self.parameters_amt + 1)   # As\n",
        "        self.learning_rate = 0.01  # default learning rate\n",
        "\n",
        "\n",
        "    # full forward pass\n",
        "    def forward(self, image):\n",
        "        t = image\n",
        "        self.astages[0] = t\n",
        "        for k in range(self.parameters_amt):\n",
        "            layer = self.parameters[k]\n",
        "            t = layer.forward(t)\n",
        "            if layer.activation_func != None:\n",
        "                t = layer.activation_func.forward(t)\n",
        "                self.astages[k+1] = t\n",
        "        return t # output\n",
        "\n",
        "    # full backward pass\n",
        "    def backward(self, labels):\n",
        "        \n",
        "        # 1 hot\n",
        "        out = np.zeros((len(labels), 10), np.float32)\n",
        "        out[range(out.shape[0]), labels] = 1\n",
        "\n",
        "        # the delta\n",
        "        deltaLayer = -out / labels.shape[0]\n",
        "\n",
        "        for k in reversed(range(self.parameters_amt)):\n",
        "            layer = self.parameters[k]\n",
        "            current_activation = self.astages[k+1]\n",
        "            previous_activation = self.astages[k]\n",
        "            deltaActivation = layer.activation_func.backward(deltaLayer, current_activation)\n",
        "            deltaLayer = deltaActivation.dot(layer.weights.T)\n",
        "            gradWeights = previous_activation.T.dot(deltaActivation)\n",
        "            gradBiases = np.sum(deltaActivation, axis=1, keepdims=True) # [20,10] -> [1,10]\n",
        "\n",
        "            # SGD\n",
        "            layer.update(self.learning_rate, gradWeights, gradBiases)\n",
        "\n",
        "    # calculates train accuracy\n",
        "    @staticmethod\n",
        "    def calculate_accuracy(preds, labels):\n",
        "        correct = 0\n",
        "        for o, l in zip(preds, labels):\n",
        "            if np.argmax(o) == l:\n",
        "                correct += 1\n",
        "        return correct\n",
        "\n",
        "    # training/fit\n",
        "    def train(self, X_train, y_train, epochs, loss=None, learning_rate=None):\n",
        "        \n",
        "        # update learning rate\n",
        "        if learning_rate is not None:\n",
        "            self.learning_rate = learning_rate\n",
        "\n",
        "        # history\n",
        "        hist = np.zeros(epochs)\n",
        "\n",
        "        # train\n",
        "        for epoch in tqdm(range(epochs)):\n",
        "            \n",
        "            # store losses -> batch size\n",
        "            batch_size = len(X_train)\n",
        "            batch_losses = np.zeros(batch_size)\n",
        "            batch_accuracies = np.zeros(batch_size)\n",
        "\n",
        "            for i, (images, labels) in enumerate(zip(X_train, y_train)):\n",
        "\n",
        "                # forward -> calculate accuracy\n",
        "                out = self.forward(images.reshape(-1, 28*28))\n",
        "                batch_accuracies[i] += self.calculate_accuracy(out, labels) / batch_size\n",
        "\n",
        "                # calculate loss\n",
        "                if loss is not None:\n",
        "                    batch_losses[i] = loss.calc_loss(out, labels)\n",
        "\n",
        "                # backward\n",
        "                self.backward(labels)\n",
        "\n",
        "            # update mean loss and add accuracies\n",
        "            hist[epoch] = np.sum(batch_accuracies)\n",
        "            loss.losses_per_epoch.append(np.mean(batch_losses))\n",
        "\n",
        "        # return history\n",
        "        return hist\n"
      ]
    },
    {
      "cell_type": "markdown",
      "metadata": {},
      "source": [
        "MSE Loss Function"
      ]
    },
    {
      "cell_type": "code",
      "execution_count": 10,
      "metadata": {
        "id": "gpkFofC7jKNT"
      },
      "outputs": [],
      "source": [
        "# MSE Loss function\n",
        "class MSELoss:\n",
        "  def __init__(self):\n",
        "    self.losses_per_epoch = []\n",
        "  \n",
        "  def calc_loss(self, out, labels):\n",
        "    preds = np.array([np.argmax(o) for o in out])\n",
        "    return np.mean(np.square(np.subtract(preds, np.array(labels))))"
      ]
    },
    {
      "cell_type": "markdown",
      "metadata": {},
      "source": [
        "Data"
      ]
    },
    {
      "cell_type": "code",
      "execution_count": 11,
      "metadata": {},
      "outputs": [],
      "source": [
        "# Train and test data\n",
        "X_train, y_train = get_testing_data(nn_batches_amount)\n",
        "X_test, y_test = get_testing_data(nn_batches_amount)"
      ]
    },
    {
      "cell_type": "markdown",
      "metadata": {},
      "source": [
        "## Training\n",
        "Creating the Network and training with SGD Optimizer and MSE Loss"
      ]
    },
    {
      "cell_type": "code",
      "execution_count": 12,
      "metadata": {
        "id": "sNMar37zjKNS"
      },
      "outputs": [],
      "source": [
        "# network\n",
        "class Network(Neural_Network_Model):\n",
        "    def __init__(self):\n",
        "        self.hl1 = Layer(28*28, input_size_amount, ReLU())\n",
        "        self.hl2 = Layer(input_size_amount, input_size_amount, ReLU())\n",
        "        self.hl3 = Layer(input_size_amount, input_size_amount, ReLU())\n",
        "        self.hl4 = Layer(input_size_amount, output_size_amount, LogSoftmax())"
      ]
    },
    {
      "cell_type": "code",
      "execution_count": 18,
      "metadata": {
        "colab": {
          "base_uri": "https://localhost:8080/"
        },
        "id": "cIuoH-gYjKNT",
        "outputId": "9f9918dd-f014-488f-efa7-2ee913f73ad0"
      },
      "outputs": [
        {
          "name": "stderr",
          "output_type": "stream",
          "text": [
            "100%|██████████| 10/10 [00:04<00:00,  2.44it/s]\n"
          ]
        }
      ],
      "source": [
        "# training setup\n",
        "network = Network()\n",
        "loss = MSELoss()\n",
        "optimizer = SGD_Optimizer(network.parameters())\n",
        "\n",
        "# train\n",
        "history = optimizer.train(X_train, y_train, 10, learning_rate=0.001, loss=loss)"
      ]
    },
    {
      "cell_type": "code",
      "execution_count": 19,
      "metadata": {
        "colab": {
          "base_uri": "https://localhost:8080/"
        },
        "id": "cTSrqQIRjKNV",
        "outputId": "ce4790db-00d9-4e04-a0ee-6d50e2c5bcff"
      },
      "outputs": [
        {
          "name": "stdout",
          "output_type": "stream",
          "text": [
            "Accuracy on testset 0.7753%\n"
          ]
        }
      ],
      "source": [
        "# Prediction on Test Set\n",
        "correct_predictions = 0\n",
        "amount = 0\n",
        "\n",
        "for images, labels in zip(X_test, y_test):\n",
        "    out = optimizer.forward(images.reshape(-1,28*28))\n",
        "    for pred, actual in zip(out, labels):\n",
        "        amount += 1\n",
        "        if np.argmax(pred) == actual:\n",
        "            correct_predictions += 1\n",
        "test_set_accuracy = correct_predictions/amount\n",
        "\n",
        "# test\n",
        "print(f\"Accuracy on testset {test_set_accuracy}%\")"
      ]
    },
    {
      "cell_type": "markdown",
      "metadata": {},
      "source": [
        "Accuracy x Loss Graph"
      ]
    },
    {
      "cell_type": "code",
      "execution_count": 48,
      "metadata": {},
      "outputs": [
        {
          "data": {
            "image/png": "[encoded data removed]",
            "text/plain": [
              "<Figure size 720x288 with 1 Axes>"
            ]
          },
          "metadata": {
            "needs_background": "light"
          },
          "output_type": "display_data"
        }
      ],
      "source": [
        "import matplotlib.pyplot as plt\n",
        "\n",
        "# setup\n",
        "fig, ax = plt.subplots(1, figsize=(10, 4), sharey=True, sharex=True)\n",
        "ax.set_title('Training Accuracy/Losses')\n",
        "ax.set_xlabel('Epoch')\n",
        "ax.set_ylabel('Accuracy/Losses')\n",
        "\n",
        "# lines\n",
        "line1, = ax.plot(loss.losses_per_epoch, label='Losses')\n",
        "line2, = ax.plot(history, label='Accuracies on Training')\n",
        "\n",
        "y_min, y_max = ax.get_ylim()\n",
        "accuracy_y = y_max*test_set_accuracy\n",
        "line3, = ax.plot([0, ax.get_xlim()[1]], [accuracy_y, accuracy_y], label='Testset Accuracy')\n",
        "\n",
        "ax.legend(handles=[line1, line2, line3])\n",
        "\n",
        "# display\n",
        "plt.show()"
      ]
    },
    {
      "cell_type": "markdown",
      "metadata": {},
      "source": [
        "Simple Visualisation"
      ]
    },
    {
      "cell_type": "code",
      "execution_count": 17,
      "metadata": {
        "colab": {
          "base_uri": "https://localhost:8080/",
          "height": 300
        },
        "id": "j753-_O0jKNW",
        "outputId": "ff4a7311-551d-4039-a70a-a5e609cd11e1"
      },
      "outputs": [
        {
          "data": {
            "image/png": "[encoded data removed]",
            "text/plain": [
              "<Figure size 432x288 with 1 Axes>"
            ]
          },
          "metadata": {
            "needs_background": "light"
          },
          "output_type": "display_data"
        }
      ],
      "source": [
        "i = 1238\n",
        "\n",
        "# imaple\n",
        "image = np.array(raw_testing_data[i][0])\n",
        "label = np.array(raw_testing_data[i][1])\n",
        "\n",
        "# prediction\n",
        "out = optimizer.forward(image.reshape(-1, 28*28))\n",
        "pred = np.argmax(out)\n",
        "\n",
        "# show result\n",
        "ax = plt.imshow(np.int16(image), cmap='gray').axes\n",
        "ax.set_title(f'Predict: {get_name(pred)}\\nActual: {get_name(label)}\\n', color='g' if pred == label else 'r')\n",
        "ax.set_axis_off()\n",
        "\n",
        "# display\n",
        "plt.show()"
      ]
    }
  ],
  "metadata": {
    "colab": {
      "collapsed_sections": [],
      "name": "Task3.ipynb",
      "provenance": []
    },
    "kernelspec": {
      "display_name": "Python 3.8.8 ('base')",
      "language": "python",
      "name": "python3"
    },
    "language_info": {
      "codemirror_mode": {
        "name": "ipython",
        "version": 3
      },
      "file_extension": ".py",
      "mimetype": "text/x-python",
      "name": "python",
      "nbconvert_exporter": "python",
      "pygments_lexer": "ipython3",
      "version": "3.8.8"
    },
    "vscode": {
      "interpreter": {
        "hash": "83255924bb24649959e7676d680b8b30ea37435eed6ec554b3a74df0ae3dfcdb"
      }
    }
  },
  "nbformat": 4,
  "nbformat_minor": 0
}
