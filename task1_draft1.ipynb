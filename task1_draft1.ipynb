{
 "cells": [
  {
   "cell_type": "code",
   "execution_count": null,
   "metadata": {},
   "outputs": [],
   "source": [
    "# imports\n",
    "import numpy as np\n",
    "import matplotlib.pyplot as plt"
   ]
  },
  {
   "cell_type": "code",
   "execution_count": null,
   "metadata": {},
   "outputs": [],
   "source": [
    "# debugging\n",
    "import threading\n",
    "import time\n",
    "\n",
    "# cur_time = 0\n",
    "# def increment_time(var):\n",
    "#     var += 1\n",
    "# timer = threading.Timer(0.100, increment_time(cur_time))\n",
    "\n",
    "# def start_checkpoint(counter):\n",
    "#     tmr = threading.Timer(0.100, increment_time(counter))\n",
    "#     tmr.start()\n",
    "#     return tmr\n",
    "\n",
    "# def stop_checkpoint(counter, tmr):\n",
    "#     tmr.cancel()\n",
    "#     return cur_time - counter"
   ]
  },
  {
   "cell_type": "code",
   "execution_count": null,
   "metadata": {},
   "outputs": [],
   "source": [
    "# setup\n",
    "# fig, ax = plt.subplots()\n",
    "# plt.axis('off')\n",
    "# grid = ax.table(cellText=grid_data, loc='center')"
   ]
  },
  {
   "cell_type": "code",
   "execution_count": null,
   "metadata": {},
   "outputs": [],
   "source": [
    "# Controller Class\n",
    "class Controller:\n",
    "\n",
    "    def __init__(self, gamemode, seed, animations):\n",
    "        self.grid = None\n",
    "        self.gamemode = gamemode\n",
    "        self.seed = seed\n",
    "        self.animations = animations\n",
    "    \n"
   ]
  },
  {
   "cell_type": "code",
   "execution_count": null,
   "metadata": {},
   "outputs": [],
   "source": [
    "# The Grid class\n",
    "# Reason for creating the Grid class is so that I can use \"id\" as key in dictionary rather than converting the coord to string\n",
    "class Grid:\n",
    "\n",
    "    # TODO: add args and kwards so that custom grid can be passed\n",
    "    def __init__(self, x_size, y_size, low, high):\n",
    "        self.size = x_size * y_size\n",
    "        self.x_size = x_size\n",
    "        self.y_size = y_size\n",
    "        self.grid = np.random.randint(low+1, high=high, size=(1, self.size))[0]\n",
    "\n",
    "    # returns the right cell\n",
    "    def get_right_cell(self, id):\n",
    "        lid = id+1\n",
    "        if id < self.size and (lid) % self.x_size != 0:\n",
    "            return (lid, self.grid[lid])\n",
    "\n",
    "    # returns the bottom cell\n",
    "    def get_bottom_cell(self, id):\n",
    "        lid = id+self.x_size\n",
    "        if lid < self.size:\n",
    "            return (lid, self.grid[lid])\n",
    "\n",
    "    # returns the cell\n",
    "    def get_cell(self, id):\n",
    "        return self.grid[id]\n",
    "\n",
    "    # converts id to coordinates (x,y)\n",
    "    def id_to_coord(self, id):\n",
    "        lid = id+1\n",
    "        return (lid // self.x_size, lid % self.y_size)\n",
    "\n",
    "    # pretty prints grid\n",
    "    def spit_grid(self):\n",
    "        for k, c in enumerate(self.grid, start=1):\n",
    "            print(c, end=' | ')\n",
    "            if k % self.x_size == 0:\n",
    "                print('\\n --- ')"
   ]
  },
  {
   "cell_type": "code",
   "execution_count": null,
   "metadata": {},
   "outputs": [],
   "source": [
    "# Algorithm Super Class\n",
    "class PFindAlgo:\n",
    "    \n",
    "    def __init__(self, grid):\n",
    "        if grid.size == 0:\n",
    "            raise Exception('Cannot initialize a grid with size 0')\n",
    "        self.grid = grid"
   ]
  },
  {
   "cell_type": "code",
   "execution_count": null,
   "metadata": {},
   "outputs": [],
   "source": [
    "# Heuristic Algorithm Class\n",
    "class SafatAlgo(PFindAlgo):\n",
    "\n",
    "    def __init__(self, grid):\n",
    "        super().__init__(grid)\n",
    "        self.memory = {0: (grid[0], None)}  # {point: [weight_from_origin, previous_point]}\n",
    "        self.queue = [0]\n",
    "\n",
    "\n",
    "    # Help find the algorithm\n",
    "    def find_shortest_path(self):\n",
    "\n",
    "        # Step\n",
    "        while len(self.queue) > 0:\n",
    "\n",
    "            # get next point in queue\n",
    "            vis = self.q_get()\n",
    "            vis_point = self.mem_get_point(vis)\n",
    "\n",
    "            # add right side to memory and queue\n",
    "            right = grid.get_right_cell(vis)\n",
    "            if right:\n",
    "                self.mem_add_point(right, vis, vis_point)\n",
    "                self.q_enqueue(right[0])\n",
    "\n",
    "            # add left side to memory and queue\n",
    "            bottom = grid.get_bottom_cell(vis)\n",
    "            if bottom:\n",
    "                self.mem_add_point(bottom, vis, vis_point)\n",
    "                self.q_enqueue(bottom[0])\n",
    "\n",
    "\n",
    "    # Backtrack -> returns path in reverse\n",
    "    def backtrack_path(self):\n",
    "\n",
    "        # init target info\n",
    "        target_cell = grid.size-1\n",
    "        path = [target_cell]\n",
    "\n",
    "        ptr = self.mem_get_point(target_cell)\n",
    "\n",
    "        # start from target [bottom right] backtrack via 'prev' until [0,0]\n",
    "        while ptr[1]:\n",
    "            path.append(ptr[1])\n",
    "            ptr = self.mem_get_point(ptr[1])\n",
    "        path.append(0)\n",
    "        return path\n",
    "    \n",
    "\n",
    "    # Helper functions\n",
    "    def q_enqueue(self, c):\n",
    "        self.queue.append(c)\n",
    "\n",
    "    def q_get(self):\n",
    "        next = self.queue[0]\n",
    "        self.queue.pop(0)\n",
    "        return next\n",
    "\n",
    "    def mem_get_point(self, k):\n",
    "        try:\n",
    "            return self.memory[k]\n",
    "        except KeyError:\n",
    "            return None\n",
    "\n",
    "    def mem_add_point(self, cell, prev_id, prev):\n",
    "        wfo = prev[0]+cell[1]\n",
    "        point = self.mem_get_point(cell[0])\n",
    "\n",
    "        # if a point is not in memory or the wfo is less than current path -> add/replace point\n",
    "        if point is None or wfo < point[0]:\n",
    "            self.memory[cell[0]] = (wfo, prev_id)\n"
   ]
  },
  {
   "cell_type": "code",
   "execution_count": null,
   "metadata": {},
   "outputs": [],
   "source": [
    "# Dijkstra Algorithm Class\n",
    "class DijkstraAlgo:\n",
    "    \n",
    "    def __init__(self, grid):\n",
    "        super().__init__(grid)\n",
    "        \n"
   ]
  },
  {
   "cell_type": "code",
   "execution_count": null,
   "metadata": {},
   "outputs": [],
   "source": [
    "controller = Controller(0, 1, False)\n",
    "grid = Grid(15,15,0,5)\n",
    "grid.spit_grid()"
   ]
  },
  {
   "cell_type": "code",
   "execution_count": null,
   "metadata": {},
   "outputs": [],
   "source": [
    "algo = SafatAlgo(grid.grid)\n",
    "algo.find_shortest_path()\n",
    "\n",
    "print(algo.memory)\n",
    "print(algo.backtrack_path())"
   ]
  }
 ],
 "metadata": {
  "kernelspec": {
   "display_name": "Python 3.8.8 ('base')",
   "language": "python",
   "name": "python3"
  },
  "language_info": {
   "codemirror_mode": {
    "name": "ipython",
    "version": 3
   },
   "file_extension": ".py",
   "mimetype": "text/x-python",
   "name": "python",
   "nbconvert_exporter": "python",
   "pygments_lexer": "ipython3",
   "version": "3.8.8"
  },
  "orig_nbformat": 4,
  "vscode": {
   "interpreter": {
    "hash": "83255924bb24649959e7676d680b8b30ea37435eed6ec554b3a74df0ae3dfcdb"
   }
  }
 },
 "nbformat": 4,
 "nbformat_minor": 2
}
